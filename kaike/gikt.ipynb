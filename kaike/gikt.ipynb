{
 "cells": [
  {
   "cell_type": "code",
   "execution_count": null,
   "metadata": {
    "collapsed": true
   },
   "outputs": [],
   "source": []
  },
  {
   "cell_type": "code",
   "execution_count": 4,
   "outputs": [],
   "source": [
    "import os\n",
    "import pandas as pd\n",
    "dpath=\"../data/assist2009\"\n",
    "trainfile=\"train_valid.csv\"\n",
    "testfile=\"test.csv\"\n",
    "num_c=123\n",
    "num_q=17737"
   ],
   "metadata": {
    "collapsed": false,
    "ExecuteTime": {
     "end_time": "2023-11-21T02:50:34.135333100Z",
     "start_time": "2023-11-21T02:50:34.115118700Z"
    }
   }
  },
  {
   "cell_type": "code",
   "execution_count": 2,
   "outputs": [
    {
     "data": {
      "text/plain": "     fold   uid                                          questions  \\\n0       0  3675  11666,8406,11471,10543,7571,15890,8117,11023,1...   \n1       0  3651      2941,11778,1141,1282,3287,3411,840,1952,11540   \n2       0  1692              10349,11182,7926,7900,7906,7137,10923   \n3       0  3076  2549,830,4313,1826,15138,4687,4632,13791,15137...   \n4       0  1558  7927,7928,10084,10923,15540,15541,15542,15543,...   \n..    ...   ...                                                ...   \n765    -1  2661  12006,6516,796,13039,4250,14188,6213,760,14832...   \n766    -1  2540  15012,15012,6291,1947,1947,5188,5188,2934,2934...   \n767    -1  2657  7377,125,2366,1841,2370,4976,124,3646,2054,530...   \n768    -1   913  770,753,30,4,6458,1043,5035,975,756,14209,1496...   \n769    -1  1979  7431,6071,8014,9658,12444,13803,5711,5711,5640...   \n\n                                              concepts  \\\n0    62,62,62,62,62,62,62,62,62,62,62,62,62,62,62,1...   \n1                                    1,1,1,1,1,1,1,1,1   \n2                                 57,57,57,57,57,57,57   \n3                     15,15,15,15,14,14,14,14,14,14,14   \n4            57,57,57,57,57,57,57,57,57,57,57,57,57,48   \n..                                                 ...   \n765  16,16,16,16,16,16,16,2,3,9,23,8,28,28,6,62,62,...   \n766  55,11,11,55,11,4,11,4,11,5,5,2,2,2,26,26,26,26...   \n767  28,28,28,28,28,28,28,28,28,28,28,28,28,28,28,2...   \n768  0,0,0,0,5,5,2,2,7,6,2,3,5,1,1,1,1,1,4,4,4,1,0,...   \n769           38,38,38,38,38,38,74,38,74,38,74,38,13,0   \n\n                                             responses  \\\n0                0,0,0,1,1,1,1,1,0,0,0,1,1,0,0,1,0,0,1   \n1                                    0,0,1,1,1,1,0,0,1   \n2                                        1,0,1,1,1,1,1   \n3                                0,1,1,0,0,1,1,0,1,0,1   \n4                          0,0,1,0,0,0,0,1,1,1,1,1,1,0   \n..                                                 ...   \n765  0,0,0,0,0,0,0,1,1,1,1,1,1,1,1,0,0,1,1,0,1,0,0,...   \n766  1,1,1,1,1,1,1,1,1,1,1,1,1,1,1,1,1,1,1,1,0,1,1,...   \n767  1,0,1,0,0,0,1,1,1,0,0,1,0,0,1,0,0,0,1,0,0,0,1,...   \n768  0,0,1,0,1,1,1,1,1,1,1,1,1,0,1,0,0,1,1,1,1,1,1,...   \n769                        0,1,1,1,1,1,0,0,0,0,0,0,0,0   \n\n                                             is_repeat  \\\n0                0,0,0,0,0,0,0,0,0,0,0,0,0,0,0,0,0,0,0   \n1                                    0,0,0,0,0,0,0,0,0   \n2                                        0,0,0,0,0,0,0   \n3                                0,0,0,0,0,0,0,0,0,0,0   \n4                          0,0,0,0,0,0,0,0,0,0,0,0,0,0   \n..                                                 ...   \n765  0,0,0,0,0,0,0,0,0,0,1,0,0,0,0,0,0,0,0,0,0,0,0,...   \n766  0,1,0,0,1,0,1,0,1,0,0,0,0,0,0,0,0,0,0,0,0,0,0,...   \n767  0,0,0,0,0,0,0,0,0,0,0,0,0,0,0,0,0,0,0,0,0,0,0,...   \n768  0,0,0,0,0,0,0,0,0,0,0,0,0,0,0,0,0,0,0,0,0,0,0,...   \n769                        0,0,0,0,0,0,0,1,0,1,0,1,0,1   \n\n                                                 cidxs  \n0                                                  NaN  \n1                                                  NaN  \n2                                                  NaN  \n3                                                  NaN  \n4                                                  NaN  \n..                                                 ...  \n765  62319,62320,62321,62322,62323,62324,62325,6232...  \n766  62360,62361,62362,62363,62364,62365,62366,6236...  \n767  62441,62442,62443,62444,62445,62446,62447,6244...  \n768  62477,62478,62479,62480,62481,62482,62483,6248...  \n769  62796,62797,62798,62799,62800,62801,62802,6280...  \n\n[3852 rows x 7 columns]",
      "text/html": "<div>\n<style scoped>\n    .dataframe tbody tr th:only-of-type {\n        vertical-align: middle;\n    }\n\n    .dataframe tbody tr th {\n        vertical-align: top;\n    }\n\n    .dataframe thead th {\n        text-align: right;\n    }\n</style>\n<table border=\"1\" class=\"dataframe\">\n  <thead>\n    <tr style=\"text-align: right;\">\n      <th></th>\n      <th>fold</th>\n      <th>uid</th>\n      <th>questions</th>\n      <th>concepts</th>\n      <th>responses</th>\n      <th>is_repeat</th>\n      <th>cidxs</th>\n    </tr>\n  </thead>\n  <tbody>\n    <tr>\n      <th>0</th>\n      <td>0</td>\n      <td>3675</td>\n      <td>11666,8406,11471,10543,7571,15890,8117,11023,1...</td>\n      <td>62,62,62,62,62,62,62,62,62,62,62,62,62,62,62,1...</td>\n      <td>0,0,0,1,1,1,1,1,0,0,0,1,1,0,0,1,0,0,1</td>\n      <td>0,0,0,0,0,0,0,0,0,0,0,0,0,0,0,0,0,0,0</td>\n      <td>NaN</td>\n    </tr>\n    <tr>\n      <th>1</th>\n      <td>0</td>\n      <td>3651</td>\n      <td>2941,11778,1141,1282,3287,3411,840,1952,11540</td>\n      <td>1,1,1,1,1,1,1,1,1</td>\n      <td>0,0,1,1,1,1,0,0,1</td>\n      <td>0,0,0,0,0,0,0,0,0</td>\n      <td>NaN</td>\n    </tr>\n    <tr>\n      <th>2</th>\n      <td>0</td>\n      <td>1692</td>\n      <td>10349,11182,7926,7900,7906,7137,10923</td>\n      <td>57,57,57,57,57,57,57</td>\n      <td>1,0,1,1,1,1,1</td>\n      <td>0,0,0,0,0,0,0</td>\n      <td>NaN</td>\n    </tr>\n    <tr>\n      <th>3</th>\n      <td>0</td>\n      <td>3076</td>\n      <td>2549,830,4313,1826,15138,4687,4632,13791,15137...</td>\n      <td>15,15,15,15,14,14,14,14,14,14,14</td>\n      <td>0,1,1,0,0,1,1,0,1,0,1</td>\n      <td>0,0,0,0,0,0,0,0,0,0,0</td>\n      <td>NaN</td>\n    </tr>\n    <tr>\n      <th>4</th>\n      <td>0</td>\n      <td>1558</td>\n      <td>7927,7928,10084,10923,15540,15541,15542,15543,...</td>\n      <td>57,57,57,57,57,57,57,57,57,57,57,57,57,48</td>\n      <td>0,0,1,0,0,0,0,1,1,1,1,1,1,0</td>\n      <td>0,0,0,0,0,0,0,0,0,0,0,0,0,0</td>\n      <td>NaN</td>\n    </tr>\n    <tr>\n      <th>...</th>\n      <td>...</td>\n      <td>...</td>\n      <td>...</td>\n      <td>...</td>\n      <td>...</td>\n      <td>...</td>\n      <td>...</td>\n    </tr>\n    <tr>\n      <th>765</th>\n      <td>-1</td>\n      <td>2661</td>\n      <td>12006,6516,796,13039,4250,14188,6213,760,14832...</td>\n      <td>16,16,16,16,16,16,16,2,3,9,23,8,28,28,6,62,62,...</td>\n      <td>0,0,0,0,0,0,0,1,1,1,1,1,1,1,1,0,0,1,1,0,1,0,0,...</td>\n      <td>0,0,0,0,0,0,0,0,0,0,1,0,0,0,0,0,0,0,0,0,0,0,0,...</td>\n      <td>62319,62320,62321,62322,62323,62324,62325,6232...</td>\n    </tr>\n    <tr>\n      <th>766</th>\n      <td>-1</td>\n      <td>2540</td>\n      <td>15012,15012,6291,1947,1947,5188,5188,2934,2934...</td>\n      <td>55,11,11,55,11,4,11,4,11,5,5,2,2,2,26,26,26,26...</td>\n      <td>1,1,1,1,1,1,1,1,1,1,1,1,1,1,1,1,1,1,1,1,0,1,1,...</td>\n      <td>0,1,0,0,1,0,1,0,1,0,0,0,0,0,0,0,0,0,0,0,0,0,0,...</td>\n      <td>62360,62361,62362,62363,62364,62365,62366,6236...</td>\n    </tr>\n    <tr>\n      <th>767</th>\n      <td>-1</td>\n      <td>2657</td>\n      <td>7377,125,2366,1841,2370,4976,124,3646,2054,530...</td>\n      <td>28,28,28,28,28,28,28,28,28,28,28,28,28,28,28,2...</td>\n      <td>1,0,1,0,0,0,1,1,1,0,0,1,0,0,1,0,0,0,1,0,0,0,1,...</td>\n      <td>0,0,0,0,0,0,0,0,0,0,0,0,0,0,0,0,0,0,0,0,0,0,0,...</td>\n      <td>62441,62442,62443,62444,62445,62446,62447,6244...</td>\n    </tr>\n    <tr>\n      <th>768</th>\n      <td>-1</td>\n      <td>913</td>\n      <td>770,753,30,4,6458,1043,5035,975,756,14209,1496...</td>\n      <td>0,0,0,0,5,5,2,2,7,6,2,3,5,1,1,1,1,1,4,4,4,1,0,...</td>\n      <td>0,0,1,0,1,1,1,1,1,1,1,1,1,0,1,0,0,1,1,1,1,1,1,...</td>\n      <td>0,0,0,0,0,0,0,0,0,0,0,0,0,0,0,0,0,0,0,0,0,0,0,...</td>\n      <td>62477,62478,62479,62480,62481,62482,62483,6248...</td>\n    </tr>\n    <tr>\n      <th>769</th>\n      <td>-1</td>\n      <td>1979</td>\n      <td>7431,6071,8014,9658,12444,13803,5711,5711,5640...</td>\n      <td>38,38,38,38,38,38,74,38,74,38,74,38,13,0</td>\n      <td>0,1,1,1,1,1,0,0,0,0,0,0,0,0</td>\n      <td>0,0,0,0,0,0,0,1,0,1,0,1,0,1</td>\n      <td>62796,62797,62798,62799,62800,62801,62802,6280...</td>\n    </tr>\n  </tbody>\n</table>\n<p>3852 rows × 7 columns</p>\n</div>"
     },
     "execution_count": 2,
     "metadata": {},
     "output_type": "execute_result"
    }
   ],
   "source": [
    "df_train = pd.read_csv(os.path.join(dpath, trainfile))\n",
    "df_test = pd.read_csv(os.path.join(dpath, testfile))\n",
    "df = pd.concat([df_train, df_test])\n",
    "df"
   ],
   "metadata": {
    "collapsed": false,
    "ExecuteTime": {
     "end_time": "2023-11-21T02:34:55.811675200Z",
     "start_time": "2023-11-21T02:34:55.751575Z"
    }
   }
  },
  {
   "cell_type": "code",
   "execution_count": 6,
   "outputs": [],
   "source": [
    "import numpy as np\n",
    "\n",
    "\n",
    "def build_graph(df, num_c, num_q):\n",
    "    graph = None\n",
    "    graph = np.zeros((num_q, num_c))\n",
    "    for _, row in df.iterrows():\n",
    "        questions = list(filter(lambda x: x != '-1',\n",
    "                                row['questions'].split(',')))\n",
    "        concepts = list(filter(lambda x: x != '-1',\n",
    "                                row['concepts'].split(',')))\n",
    "        seq_len = len(questions)\n",
    "        for i in range(seq_len - 1):\n",
    "            pre = int(questions[i])\n",
    "            next = int(concepts[i])\n",
    "            graph[pre, next] = 1\n",
    "\n",
    "    return graph"
   ],
   "metadata": {
    "collapsed": false,
    "ExecuteTime": {
     "end_time": "2023-11-21T02:51:02.468955600Z",
     "start_time": "2023-11-21T02:51:02.458243600Z"
    }
   }
  },
  {
   "cell_type": "code",
   "execution_count": 7,
   "outputs": [
    {
     "data": {
      "text/plain": "array([[1., 0., 0., ..., 0., 0., 0.],\n       [1., 0., 0., ..., 0., 0., 0.],\n       [1., 0., 0., ..., 0., 0., 0.],\n       ...,\n       [0., 0., 0., ..., 0., 0., 0.],\n       [0., 0., 0., ..., 0., 0., 0.],\n       [0., 0., 0., ..., 0., 0., 0.]])"
     },
     "execution_count": 7,
     "metadata": {},
     "output_type": "execute_result"
    }
   ],
   "source": [
    "graph=build_graph(df,num_c,num_q)\n",
    "graph"
   ],
   "metadata": {
    "collapsed": false,
    "ExecuteTime": {
     "end_time": "2023-11-21T02:51:03.264312Z",
     "start_time": "2023-11-21T02:51:03.106838800Z"
    }
   }
  },
  {
   "cell_type": "code",
   "execution_count": 11,
   "outputs": [
    {
     "data": {
      "text/plain": "array([0., 0., 0., 0., 1., 0., 0., 0., 0., 0., 0., 1., 0., 0., 0., 0., 0.,\n       0., 0., 0., 0., 0., 0., 0., 0., 0., 0., 0., 0., 0., 0., 0., 0., 0.,\n       0., 0., 0., 0., 0., 0., 0., 0., 0., 0., 0., 0., 0., 0., 0., 0., 0.,\n       0., 0., 0., 0., 0., 0., 0., 0., 0., 0., 0., 0., 0., 0., 0., 0., 0.,\n       0., 0., 0., 0., 0., 0., 0., 0., 0., 0., 0., 0., 0., 0., 0., 0., 0.,\n       0., 0., 0., 0., 0., 0., 0., 0., 0., 0., 0., 0., 0., 0., 0., 0., 0.,\n       0., 0., 0., 0., 0., 0., 0., 0., 0., 0., 0., 0., 0., 0., 0., 0., 0.,\n       0., 0., 0., 0.])"
     },
     "execution_count": 11,
     "metadata": {},
     "output_type": "execute_result"
    }
   ],
   "source": [],
   "metadata": {
    "collapsed": false,
    "ExecuteTime": {
     "end_time": "2023-11-21T02:52:34.262131600Z",
     "start_time": "2023-11-21T02:52:34.244207100Z"
    }
   }
  },
  {
   "cell_type": "code",
   "execution_count": null,
   "outputs": [],
   "source": [
    "hidden_neurons=[200,100]\n",
    "hidden_layers = []\n",
    "        for idx, hidden_size in enumerate(hidden_neurons):\n",
    "            lstm_layer = tf.contrib.rnn.BasicLSTMCell(num_units=hidden_size,name='input_rnn%d'%idx)\n",
    "            hidden_layer = tf.contrib.rnn.DropoutWrapper(cell=lstm_layer,\n",
    "                                                         output_keep_prob=self.keep_prob)\n",
    "            hidden_layers.append(hidden_layer)\n",
    "        self.hidden_cell = tf.contrib.rnn.MultiRNNCell(cells=hidden_layers, state_is_tuple=True)  # RNN"
   ],
   "metadata": {
    "collapsed": false
   }
  }
 ],
 "metadata": {
  "kernelspec": {
   "display_name": "Python 3",
   "language": "python",
   "name": "python3"
  },
  "language_info": {
   "codemirror_mode": {
    "name": "ipython",
    "version": 2
   },
   "file_extension": ".py",
   "mimetype": "text/x-python",
   "name": "python",
   "nbconvert_exporter": "python",
   "pygments_lexer": "ipython2",
   "version": "2.7.6"
  }
 },
 "nbformat": 4,
 "nbformat_minor": 0
}
